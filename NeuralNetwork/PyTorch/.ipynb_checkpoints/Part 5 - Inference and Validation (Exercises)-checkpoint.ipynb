{
 "cells": [
  {
   "cell_type": "markdown",
   "metadata": {},
   "source": [
    "# Inference and Validation\n",
    "\n",
    "Now that you have a trained network, you can use it for making predictions. This is typically called **inference**, a term borrowed from statistics. However, neural networks have a tendency to perform *too well* on the training data and aren't able to generalize to data that hasn't been seen before. This is called **overfitting** and it impairs inference performance. To test for overfitting while training, we measure the performance on data not in the training set called the **validation** set. We avoid overfitting through regularization such as dropout while monitoring the validation performance during training. In this notebook, I'll show you how to do this in PyTorch. \n",
    "\n",
    "As usual, let's start by loading the dataset through torchvision. You'll learn more about torchvision and loading data in a later part. This time we'll be taking advantage of the test set which you can get by setting `train=False` here:\n",
    "\n",
    "```python\n",
    "testset = datasets.FashionMNIST('~/.pytorch/F_MNIST_data/', download=True, train=False, transform=transform)\n",
    "```\n",
    "\n",
    "The test set contains images just like the training set. Typically you'll see 10-20% of the original dataset held out for testing and validation with the rest being used for training."
   ]
  },
  {
   "cell_type": "code",
   "execution_count": 1,
   "metadata": {},
   "outputs": [
    {
     "name": "stdout",
     "output_type": "stream",
     "text": [
      "Downloading http://fashion-mnist.s3-website.eu-central-1.amazonaws.com/train-images-idx3-ubyte.gz\n",
      "Downloading http://fashion-mnist.s3-website.eu-central-1.amazonaws.com/train-labels-idx1-ubyte.gz\n",
      "Downloading http://fashion-mnist.s3-website.eu-central-1.amazonaws.com/t10k-images-idx3-ubyte.gz\n",
      "Downloading http://fashion-mnist.s3-website.eu-central-1.amazonaws.com/t10k-labels-idx1-ubyte.gz\n",
      "Processing...\n",
      "Done!\n"
     ]
    }
   ],
   "source": [
    "import torch\n",
    "from torchvision import datasets, transforms\n",
    "\n",
    "# Define a transform to normalize the data\n",
    "transform = transforms.Compose([transforms.ToTensor(),\n",
    "                                transforms.Normalize((0.5, 0.5, 0.5), (0.5, 0.5, 0.5))])\n",
    "# Download and load the training data\n",
    "trainset = datasets.FashionMNIST('~/.pytorch/F_MNIST_data/', download=True, train=True, transform=transform)\n",
    "trainloader = torch.utils.data.DataLoader(trainset, batch_size=64, shuffle=True)\n",
    "\n",
    "# Download and load the test data\n",
    "testset = datasets.FashionMNIST('~/.pytorch/F_MNIST_data/', download=True, train=False, transform=transform)\n",
    "testloader = torch.utils.data.DataLoader(testset, batch_size=64, shuffle=True)"
   ]
  },
  {
   "cell_type": "markdown",
   "metadata": {},
   "source": [
    "Here I'll create a model like normal, using the same one from my solution for part 4."
   ]
  },
  {
   "cell_type": "code",
   "execution_count": 2,
   "metadata": {},
   "outputs": [],
   "source": [
    "from torch import nn, optim\n",
    "import torch.nn.functional as F\n",
    "\n",
    "class Classifier(nn.Module):\n",
    "    def __init__(self):\n",
    "        super().__init__()\n",
    "        self.fc1 = nn.Linear(784, 256)\n",
    "        self.fc2 = nn.Linear(256, 128)\n",
    "        self.fc3 = nn.Linear(128, 64)\n",
    "        self.fc4 = nn.Linear(64, 10)\n",
    "        \n",
    "    def forward(self, x):\n",
    "        # make sure input tensor is flattened\n",
    "        x = x.view(x.shape[0], -1)\n",
    "        \n",
    "        x = F.relu(self.fc1(x))\n",
    "        x = F.relu(self.fc2(x))\n",
    "        x = F.relu(self.fc3(x))\n",
    "        x = F.log_softmax(self.fc4(x), dim=1)\n",
    "        \n",
    "        return x"
   ]
  },
  {
   "cell_type": "markdown",
   "metadata": {},
   "source": [
    "The goal of validation is to measure the model's performance on data that isn't part of the training set. Performance here is up to the developer to define though. Typically this is just accuracy, the percentage of classes the network predicted correctly. Other options are [precision and recall](https://en.wikipedia.org/wiki/Precision_and_recall#Definition_(classification_context)) and top-5 error rate. We'll focus on accuracy here. First I'll do a forward pass with one batch from the test set."
   ]
  },
  {
   "cell_type": "code",
   "execution_count": 3,
   "metadata": {},
   "outputs": [
    {
     "name": "stdout",
     "output_type": "stream",
     "text": [
      "torch.Size([64, 10])\n"
     ]
    }
   ],
   "source": [
    "model = Classifier()\n",
    "\n",
    "images, labels = next(iter(testloader))\n",
    "# Get the class probabilities\n",
    "ps = torch.exp(model(images))\n",
    "# Make sure the shape is appropriate, we should get 10 class probabilities for 64 examples\n",
    "print(ps.shape)"
   ]
  },
  {
   "cell_type": "markdown",
   "metadata": {},
   "source": [
    "With the probabilities, we can get the most likely class using the `ps.topk` method. This returns the $k$ highest values. Since we just want the most likely class, we can use `ps.topk(1)`. This returns a tuple of the top-$k$ values and the top-$k$ indices. If the highest value is the fifth element, we'll get back 4 as the index."
   ]
  },
  {
   "cell_type": "code",
   "execution_count": 4,
   "metadata": {},
   "outputs": [
    {
     "name": "stdout",
     "output_type": "stream",
     "text": [
      "tensor([[ 0.1141],\n",
      "        [ 0.1125],\n",
      "        [ 0.1119],\n",
      "        [ 0.1133],\n",
      "        [ 0.1148],\n",
      "        [ 0.1148],\n",
      "        [ 0.1111],\n",
      "        [ 0.1144],\n",
      "        [ 0.1152],\n",
      "        [ 0.1129]])\n",
      "tensor([[ 2],\n",
      "        [ 2],\n",
      "        [ 2],\n",
      "        [ 4],\n",
      "        [ 2],\n",
      "        [ 4],\n",
      "        [ 2],\n",
      "        [ 2],\n",
      "        [ 4],\n",
      "        [ 2]])\n"
     ]
    }
   ],
   "source": [
    "top_p, top_class = ps.topk(1, dim=1)\n",
    "# Look at the most likely classes for the first 10 examples\n",
    "print(top_p[:10,:])\n",
    "print(top_class[:10,:])"
   ]
  },
  {
   "cell_type": "markdown",
   "metadata": {},
   "source": [
    "Now we can check if the predicted classes match the labels. This is simple to do by equating `top_class` and `labels`, but we have to be careful of the shapes. Here `top_class` is a 2D tensor with shape `(64, 1)` while `labels` is 1D with shape `(64)`. To get the equality to work out the way we want, `top_class` and `labels` must have the same shape.\n",
    "\n",
    "If we do\n",
    "\n",
    "```python\n",
    "equals = top_class == labels\n",
    "```\n",
    "\n",
    "`equals` will have shape `(64, 64)`, try it yourself. What it's doing is comparing the one element in each row of `top_class` with each element in `labels` which returns 64 True/False boolean values for each row."
   ]
  },
  {
   "cell_type": "code",
   "execution_count": 5,
   "metadata": {},
   "outputs": [],
   "source": [
    "equals = top_class == labels.view(*top_class.shape)"
   ]
  },
  {
   "cell_type": "markdown",
   "metadata": {},
   "source": [
    "Now we need to calculate the percentage of correct predictions. `equals` has binary values, either 0 or 1. This means that if we just sum up all the values and divide by the number of values, we get the percentage of correct predictions. This is the same operation as taking the mean, so we can get the accuracy with a call to `torch.mean`. If only it was that simple. If you try `torch.mean(equals)`, you'll get an error\n",
    "\n",
    "```\n",
    "RuntimeError: mean is not implemented for type torch.ByteTensor\n",
    "```\n",
    "\n",
    "This happens because `equals` has type `torch.ByteTensor` but `torch.mean` isn't implemented for tensors with that type. So we'll need to convert `equals` to a float tensor. Note that when we take `torch.mean` it returns a scalar tensor, to get the actual value as a float we'll need to do `accuracy.item()`."
   ]
  },
  {
   "cell_type": "code",
   "execution_count": 6,
   "metadata": {},
   "outputs": [
    {
     "name": "stdout",
     "output_type": "stream",
     "text": [
      "Accuracy: 6.25%\n"
     ]
    }
   ],
   "source": [
    "accuracy = torch.mean(equals.type(torch.FloatTensor))\n",
    "print(f'Accuracy: {accuracy.item()*100}%')"
   ]
  },
  {
   "cell_type": "markdown",
   "metadata": {},
   "source": [
    "The network is untrained so it's making random guesses and we should see an accuracy around 10%. Now let's train our network and include our validation pass so we can measure how well the network is performing on the test set. Since we're not updating our parameters in the validation pass, we can speed up our code by turning off gradients using `torch.no_grad()`:\n",
    "\n",
    "```python\n",
    "# turn off gradients\n",
    "with torch.no_grad():\n",
    "    # validation pass here\n",
    "    for images, labels in testloader:\n",
    "        ...\n",
    "```\n",
    "\n",
    ">**Exercise:** Implement the validation loop below and print out the total accuracy after the loop. You can largely copy and paste the code from above, but I suggest typing it in because writing it out yourself is essential for building the skill. In general you'll always learn more by typing it rather than copy-pasting. You should be able to get an accuracy above 80%."
   ]
  },
  {
   "cell_type": "code",
   "execution_count": 7,
   "metadata": {},
   "outputs": [
    {
     "name": "stdout",
     "output_type": "stream",
     "text": [
      "Epochs : 1/30 trainning_loss : 0.5116 test_loss: 0.4415 test_accuracy: 0.841\n",
      "Epochs : 2/30 trainning_loss : 0.3940 test_loss: 0.4199 test_accuracy: 0.853\n",
      "Epochs : 3/30 trainning_loss : 0.3564 test_loss: 0.3893 test_accuracy: 0.859\n",
      "Epochs : 4/30 trainning_loss : 0.3314 test_loss: 0.3746 test_accuracy: 0.865\n",
      "Epochs : 5/30 trainning_loss : 0.3154 test_loss: 0.3712 test_accuracy: 0.870\n",
      "Epochs : 6/30 trainning_loss : 0.3052 test_loss: 0.3924 test_accuracy: 0.865\n",
      "Epochs : 7/30 trainning_loss : 0.2949 test_loss: 0.3971 test_accuracy: 0.857\n",
      "Epochs : 8/30 trainning_loss : 0.2824 test_loss: 0.4068 test_accuracy: 0.868\n",
      "Epochs : 9/30 trainning_loss : 0.2722 test_loss: 0.3732 test_accuracy: 0.873\n",
      "Epochs : 10/30 trainning_loss : 0.2646 test_loss: 0.3700 test_accuracy: 0.873\n",
      "Epochs : 11/30 trainning_loss : 0.2625 test_loss: 0.3630 test_accuracy: 0.875\n",
      "Epochs : 12/30 trainning_loss : 0.2560 test_loss: 0.3646 test_accuracy: 0.878\n",
      "Epochs : 13/30 trainning_loss : 0.2477 test_loss: 0.3638 test_accuracy: 0.873\n",
      "Epochs : 14/30 trainning_loss : 0.2381 test_loss: 0.4104 test_accuracy: 0.864\n",
      "Epochs : 15/30 trainning_loss : 0.2354 test_loss: 0.3699 test_accuracy: 0.877\n",
      "Epochs : 16/30 trainning_loss : 0.2286 test_loss: 0.3682 test_accuracy: 0.880\n",
      "Epochs : 17/30 trainning_loss : 0.2269 test_loss: 0.3884 test_accuracy: 0.880\n",
      "Epochs : 18/30 trainning_loss : 0.2229 test_loss: 0.3797 test_accuracy: 0.875\n",
      "Epochs : 19/30 trainning_loss : 0.2187 test_loss: 0.3951 test_accuracy: 0.882\n",
      "Epochs : 20/30 trainning_loss : 0.2122 test_loss: 0.3927 test_accuracy: 0.879\n",
      "Epochs : 21/30 trainning_loss : 0.2103 test_loss: 0.3974 test_accuracy: 0.877\n",
      "Epochs : 22/30 trainning_loss : 0.2043 test_loss: 0.3913 test_accuracy: 0.879\n",
      "Epochs : 23/30 trainning_loss : 0.2031 test_loss: 0.3874 test_accuracy: 0.884\n",
      "Epochs : 24/30 trainning_loss : 0.2060 test_loss: 0.3942 test_accuracy: 0.884\n",
      "Epochs : 25/30 trainning_loss : 0.1935 test_loss: 0.4232 test_accuracy: 0.883\n",
      "Epochs : 26/30 trainning_loss : 0.1922 test_loss: 0.4129 test_accuracy: 0.887\n",
      "Epochs : 27/30 trainning_loss : 0.1913 test_loss: 0.4051 test_accuracy: 0.884\n",
      "Epochs : 28/30 trainning_loss : 0.1870 test_loss: 0.3908 test_accuracy: 0.887\n",
      "Epochs : 29/30 trainning_loss : 0.1849 test_loss: 0.4325 test_accuracy: 0.881\n",
      "Epochs : 30/30 trainning_loss : 0.1908 test_loss: 0.4224 test_accuracy: 0.886\n"
     ]
    }
   ],
   "source": [
    "model = Classifier()\n",
    "criterion = nn.NLLLoss()\n",
    "optimizer = optim.Adam(model.parameters(), lr=0.003)\n",
    "\n",
    "epochs = 30\n",
    "steps = 0\n",
    "\n",
    "train_losses, test_losses = [], []\n",
    "for e in range(epochs):\n",
    "    running_loss = 0\n",
    "    for images, labels in trainloader:\n",
    "        \n",
    "        optimizer.zero_grad()\n",
    "        \n",
    "        log_ps = model(images)\n",
    "        loss = criterion(log_ps, labels)\n",
    "        loss.backward()\n",
    "        optimizer.step()\n",
    "        \n",
    "        running_loss += loss.item()\n",
    "        \n",
    "    else:\n",
    "        ## TODO: Implement the validation pass and print out the validation accuracy\n",
    "        test_loss = 0\n",
    "        accuracy = 0\n",
    "        with torch.no_grad():\n",
    "            for images, labels in testloader:\n",
    "                log_ps= model(images)\n",
    "                test_loss += criterion(log_ps, labels)\n",
    "                \n",
    "                ps = torch.exp(log_ps)\n",
    "                top_p, top_class = ps.topk(1, dim=1)\n",
    "                equals = top_class == labels.view(*top_class.shape)\n",
    "                accuracy += torch.mean(equals.type(torch.FloatTensor))\n",
    "                \n",
    "        train_losses.append(running_loss/len(trainloader))\n",
    "        test_losses.append(test_loss/len(testloader))\n",
    "        \n",
    "        print('Epochs : {}/{}'.format(e+1, epochs),\n",
    "              'trainning_loss : {:.4f}'.format(running_loss/len(trainloader)),\n",
    "              'test_loss: {:.4f}'.format(test_loss/len(testloader)),\n",
    "              'test_accuracy: {:.3f}'.format(accuracy/len(testloader)))\n"
   ]
  },
  {
   "cell_type": "markdown",
   "metadata": {},
   "source": [
    "## Overfitting\n",
    "\n",
    "If we look at the training and validation losses as we train the network, we can see a phenomenon known as overfitting.\n",
    "\n",
    "<img src='assets/overfitting.png' width=450px>\n",
    "\n",
    "The network learns the training set better and better, resulting in lower training losses. However, it starts having problems generalizing to data outside the training set leading to the validation loss increasing. The ultimate goal of any deep learning model is to make predictions on new data, so we should strive to get the lowest validation loss possible. One option is to use the version of the model with the lowest validation loss, here the one around 8-10 training epochs. This strategy is called *early-stopping*. In practice, you'd save the model frequently as you're training then later choose the model with the lowest validation loss.\n",
    "\n",
    "The most common method to reduce overfitting (outside of early-stopping) is *dropout*, where we randomly drop input units. This forces the network to share information between weights, increasing it's ability to generalize to new data. Adding dropout in PyTorch is straightforward using the [`nn.Dropout`](https://pytorch.org/docs/stable/nn.html#torch.nn.Dropout) module.\n",
    "\n",
    "```python\n",
    "class Classifier(nn.Module):\n",
    "    def __init__(self):\n",
    "        super().__init__()\n",
    "        self.fc1 = nn.Linear(784, 256)\n",
    "        self.fc2 = nn.Linear(256, 128)\n",
    "        self.fc3 = nn.Linear(128, 64)\n",
    "        self.fc4 = nn.Linear(64, 10)\n",
    "        \n",
    "        # Dropout module with 0.2 drop probability\n",
    "        self.dropout = nn.Dropout(p=0.2)\n",
    "        \n",
    "    def forward(self, x):\n",
    "        # make sure input tensor is flattened\n",
    "        x = x.view(x.shape[0], -1)\n",
    "        \n",
    "        # Now with dropout\n",
    "        x = self.dropout(F.relu(self.fc1(x)))\n",
    "        x = self.dropout(F.relu(self.fc2(x)))\n",
    "        x = self.dropout(F.relu(self.fc3(x)))\n",
    "        \n",
    "        # output so no dropout here\n",
    "        x = F.log_softmax(self.fc4(x), dim=1)\n",
    "        \n",
    "        return x\n",
    "```\n",
    "\n",
    "During training we want to use dropout to prevent overfitting, but during inference we want to use the entire network. So, we need to turn off dropout during validation, testing, and whenever we're using the network to make predictions. To do this, you use `model.eval()`. This sets the model to evaluation mode where the dropout probability is 0. You can turn dropout back on by setting the model to train mode with `model.train()`. In general, the pattern for the validation loop will look like this, where you turn off gradients, set the model to evaluation mode, calculate the validation loss and metric, then set the model back to train mode.\n",
    "\n",
    "```python\n",
    "# turn off gradients\n",
    "with torch.no_grad():\n",
    "    \n",
    "    # set model to evaluation mode\n",
    "    model.eval()\n",
    "    \n",
    "    # validation pass here\n",
    "    for images, labels in testloader:\n",
    "        ...\n",
    "\n",
    "# set model back to train mode\n",
    "model.train()\n",
    "```"
   ]
  },
  {
   "cell_type": "markdown",
   "metadata": {},
   "source": [
    "> **Exercise:** Add dropout to your model and train it on Fashion-MNIST again. See if you can get a lower validation loss or higher accuracy."
   ]
  },
  {
   "cell_type": "code",
   "execution_count": 35,
   "metadata": {},
   "outputs": [],
   "source": [
    "## TODO: Define your model with dropout added\n",
    "class Class_w_dropout(nn.Module):\n",
    "    def __init__(self):\n",
    "        super().__init__()\n",
    "        self.fc1 = nn.Linear(784,256)\n",
    "        self.fc2 = nn.Linear(256,128)\n",
    "        self.fc3 = nn.Linear(128,64)\n",
    "        self.fc4 = nn.Linear(64,10)\n",
    "            \n",
    "        self.dropout = nn.Dropout(p=0.2) \n",
    "            \n",
    "    def forward(self, x):\n",
    "        x = x.view(x.shape[0],-1)\n",
    "        x = self.dropout(F.relu(self.fc1(x)))\n",
    "        x = self.dropout(F.relu(self.fc2(x)))\n",
    "        x = self.dropout(F.relu(self.fc3(x)))\n",
    "\n",
    "        x = F.log_softmax(self.fc4(x), dim=1)\n",
    "        \n",
    "        return x"
   ]
  },
  {
   "cell_type": "code",
   "execution_count": 38,
   "metadata": {},
   "outputs": [
    {
     "name": "stdout",
     "output_type": "stream",
     "text": [
      "epoch = 1 / 30 trainning_loss = 0.600 test_loss = 0.499 test_accuracy = 81.499%\n",
      "epoch = 2 / 30 trainning_loss = 0.480 test_loss = 0.450 test_accuracy = 84.335%\n",
      "epoch = 3 / 30 trainning_loss = 0.449 test_loss = 0.427 test_accuracy = 84.893%\n",
      "epoch = 4 / 30 trainning_loss = 0.432 test_loss = 0.424 test_accuracy = 84.813%\n",
      "epoch = 5 / 30 trainning_loss = 0.424 test_loss = 0.422 test_accuracy = 84.684%\n",
      "epoch = 6 / 30 trainning_loss = 0.412 test_loss = 0.405 test_accuracy = 85.400%\n",
      "epoch = 7 / 30 trainning_loss = 0.407 test_loss = 0.406 test_accuracy = 85.012%\n",
      "epoch = 8 / 30 trainning_loss = 0.402 test_loss = 0.393 test_accuracy = 86.485%\n",
      "epoch = 9 / 30 trainning_loss = 0.393 test_loss = 0.397 test_accuracy = 86.236%\n",
      "epoch = 10 / 30 trainning_loss = 0.390 test_loss = 0.401 test_accuracy = 86.047%\n",
      "epoch = 11 / 30 trainning_loss = 0.382 test_loss = 0.406 test_accuracy = 85.967%\n",
      "epoch = 12 / 30 trainning_loss = 0.386 test_loss = 0.372 test_accuracy = 87.022%\n",
      "epoch = 13 / 30 trainning_loss = 0.380 test_loss = 0.399 test_accuracy = 86.037%\n",
      "epoch = 14 / 30 trainning_loss = 0.378 test_loss = 0.387 test_accuracy = 86.176%\n",
      "epoch = 15 / 30 trainning_loss = 0.373 test_loss = 0.389 test_accuracy = 87.022%\n",
      "epoch = 16 / 30 trainning_loss = 0.369 test_loss = 0.394 test_accuracy = 86.505%\n",
      "epoch = 17 / 30 trainning_loss = 0.368 test_loss = 0.386 test_accuracy = 86.853%\n",
      "epoch = 18 / 30 trainning_loss = 0.378 test_loss = 0.390 test_accuracy = 86.435%\n",
      "epoch = 19 / 30 trainning_loss = 0.365 test_loss = 0.371 test_accuracy = 87.271%\n",
      "epoch = 20 / 30 trainning_loss = 0.356 test_loss = 0.377 test_accuracy = 87.132%\n",
      "epoch = 21 / 30 trainning_loss = 0.351 test_loss = 0.379 test_accuracy = 86.525%\n",
      "epoch = 22 / 30 trainning_loss = 0.350 test_loss = 0.377 test_accuracy = 87.172%\n",
      "epoch = 23 / 30 trainning_loss = 0.355 test_loss = 0.383 test_accuracy = 86.923%\n",
      "epoch = 24 / 30 trainning_loss = 0.355 test_loss = 0.377 test_accuracy = 87.211%\n",
      "epoch = 25 / 30 trainning_loss = 0.355 test_loss = 0.400 test_accuracy = 86.246%\n",
      "epoch = 26 / 30 trainning_loss = 0.349 test_loss = 0.380 test_accuracy = 87.510%\n",
      "epoch = 27 / 30 trainning_loss = 0.342 test_loss = 0.388 test_accuracy = 86.933%\n",
      "epoch = 28 / 30 trainning_loss = 0.358 test_loss = 0.378 test_accuracy = 87.600%\n",
      "epoch = 29 / 30 trainning_loss = 0.338 test_loss = 0.367 test_accuracy = 87.480%\n",
      "epoch = 30 / 30 trainning_loss = 0.345 test_loss = 0.387 test_accuracy = 87.002%\n"
     ]
    }
   ],
   "source": [
    "## TODO: Train your model with dropout, and monitor the training progress with the validation loss and accuracy\n",
    "my_model = Class_w_dropout()\n",
    "criterion = nn.NLLLoss()\n",
    "optimizer = optim.Adam(my_model.parameters(), lr = 0.003)\n",
    "\n",
    "trainning_losses = []\n",
    "testing_losses = []\n",
    "\n",
    "epochs = 30\n",
    "\n",
    "for e in range(epochs):\n",
    "    running_loss = 0\n",
    "    for images, labels in trainloader:\n",
    "        optimizer.zero_grad()\n",
    "        \n",
    "        log_ps = my_model(images)\n",
    "        loss = criterion(log_ps, labels)\n",
    "        \n",
    "        loss.backward()\n",
    "        optimizer.step()\n",
    "        \n",
    "        running_loss += loss.item()\n",
    "    \n",
    "    else:\n",
    "        test_loss = 0\n",
    "        accuracy = 0\n",
    "        with torch.no_grad():\n",
    "            my_model.eval()\n",
    "            for images, labels in testloader:\n",
    "                log_ps = my_model(images)\n",
    "                test_loss += criterion(log_ps, labels)\n",
    "                \n",
    "                ps = torch.exp(log_ps)\n",
    "                top_p, top_class = ps.topk(1, dim=1)\n",
    "                equals = top_class == labels.view(*top_class.shape)\n",
    "                accuracy += torch.mean(equals.type(torch.FloatTensor))\n",
    "            \n",
    "        my_model.train()\n",
    "            \n",
    "        trainning_losses.append(running_loss)\n",
    "        testing_losses.append(test_loss)\n",
    "        \n",
    "        print('epoch = {} / {}'.format(e+1, epochs),\n",
    "              'trainning_loss = {:.3f}'.format(running_loss/len(trainloader)),\n",
    "              'test_loss = {:.3f}'.format(test_loss/len(testloader)),\n",
    "              'test_accuracy = {:.3f}%'.format(accuracy*100/len(testloader)))"
   ]
  },
  {
   "cell_type": "code",
   "execution_count": 40,
   "metadata": {},
   "outputs": [
    {
     "data": {
      "text/plain": [
       "<matplotlib.legend.Legend at 0x7fc4349497f0>"
      ]
     },
     "execution_count": 40,
     "metadata": {},
     "output_type": "execute_result"
    },
    {
     "data": {
      "image/png": "[encoded data removed]",
      "text/plain": [
       "<matplotlib.figure.Figure at 0x7fc4349d95f8>"
      ]
     },
     "metadata": {
      "image/png": {
       "height": 250,
       "width": 377
      },
      "needs_background": "light"
     },
     "output_type": "display_data"
    }
   ],
   "source": [
    "%matplotlib inline\n",
    "%config InlineBackend.figure_format = 'retina'\n",
    "\n",
    "import matplotlib.pyplot as plt\n",
    "\n",
    "plt.plot(trainning_losses, label='Training loss')\n",
    "plt.plot(testing_losses, label='Validation loss')\n",
    "plt.legend(frameon=False)"
   ]
  },
  {
   "cell_type": "markdown",
   "metadata": {},
   "source": [
    "## Inference\n",
    "\n",
    "Now that the model is trained, we can use it for inference. We've done this before, but now we need to remember to set the model in inference mode with `model.eval()`. You'll also want to turn off autograd with the `torch.no_grad()` context."
   ]
  },
  {
   "cell_type": "code",
   "execution_count": 41,
   "metadata": {},
   "outputs": [
    {
     "data": {
      "image/png": "[encoded data removed]",
      "text/plain": [
       "<matplotlib.figure.Figure at 0x7fc434918b38>"
      ]
     },
     "metadata": {
      "image/png": {
       "height": 204,
       "width": 423
      },
      "needs_background": "light"
     },
     "output_type": "display_data"
    }
   ],
   "source": [
    "# Import helper module (should be in the repo)\n",
    "import helper\n",
    "\n",
    "# Test out your network!\n",
    "\n",
    "my_model.eval()\n",
    "\n",
    "dataiter = iter(testloader)\n",
    "images, labels = dataiter.next()\n",
    "img = images[0]\n",
    "# Convert 2D image to 1D vector\n",
    "img = img.view(1, 784)\n",
    "\n",
    "# Calculate the class probabilities (softmax) for img\n",
    "with torch.no_grad():\n",
    "    output = my_model.forward(img)\n",
    "\n",
    "ps = torch.exp(output)\n",
    "\n",
    "# Plot the image and probabilities\n",
    "helper.view_classify(img.view(1, 28, 28), ps, version='Fashion')"
   ]
  },
  {
   "cell_type": "markdown",
   "metadata": {},
   "source": [
    "## Next Up!\n",
    "\n",
    "In the next part, I'll show you how to save your trained models. In general, you won't want to train a model everytime you need it. Instead, you'll train once, save it, then load the model when you want to train more or use if for inference."
   ]
  }
 ],
 "metadata": {
  "kernelspec": {
   "display_name": "Python [default]",
   "language": "python",
   "name": "python3"
  },
  "language_info": {
   "codemirror_mode": {
    "name": "ipython",
    "version": 3
   },
   "file_extension": ".py",
   "mimetype": "text/x-python",
   "name": "python",
   "nbconvert_exporter": "python",
   "pygments_lexer": "ipython3",
   "version": "3.6.4"
  }
 },
 "nbformat": 4,
 "nbformat_minor": 2
}
